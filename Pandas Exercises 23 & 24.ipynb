{
 "cells": [
  {
   "cell_type": "code",
   "execution_count": 1,
   "id": "every-quarterly",
   "metadata": {},
   "outputs": [
    {
     "name": "stdout",
     "output_type": "stream",
     "text": [
      "          0         1         2\n",
      "0  0.168893  0.436932  0.638021\n",
      "1  0.216373  0.554165  0.644711\n",
      "2  0.805656  0.559481  0.062201\n",
      "3  0.235251  0.492908  0.365226\n",
      "4  0.741599  0.798971  0.031584\n"
     ]
    }
   ],
   "source": [
    "#23.Given a DataFrame of numeric values, say a 5x3 frame of float values. How do you subtract the row mean from each element in the row?\n",
    "import pandas as pd\n",
    "import numpy as np\n",
    "df = pd.DataFrame({'A': [1, 2, 2, 3, 4, 5, 5, 5, 6, 7, 7]})\n",
    "df = pd.DataFrame(np.random.random(size=(5, 3))) \n",
    "# a 5x3 frame of float values\n",
    "df.sub(df.mean(axis=1), axis=0)\n",
    "print(df)"
   ]
  },
  {
   "cell_type": "code",
   "execution_count": 4,
   "id": "plastic-version",
   "metadata": {},
   "outputs": [
    {
     "name": "stdout",
     "output_type": "stream",
     "text": [
      "          a         b         c         d         e         f         g  \\\n",
      "0  0.422038  0.450872  0.439721  0.811892  0.835295  0.289242  0.584230   \n",
      "1  0.789762  0.860359  0.483090  0.245507  0.023646  0.331946  0.862277   \n",
      "2  0.710344  0.894279  0.597625  0.892923  0.204527  0.938496  0.230419   \n",
      "3  0.288838  0.977915  0.728294  0.059966  0.867845  0.279201  0.549896   \n",
      "4  0.299630  0.238807  0.769967  0.691872  0.001265  0.804803  0.976545   \n",
      "\n",
      "          h         i         j  \n",
      "0  0.298828  0.077381  0.544647  \n",
      "1  0.707109  0.357873  0.085394  \n",
      "2  0.786416  0.748805  0.458001  \n",
      "3  0.080476  0.341306  0.478603  \n",
      "4  0.571884  0.501577  0.816117  \n"
     ]
    },
    {
     "data": {
      "text/plain": [
       "'e'"
      ]
     },
     "execution_count": 4,
     "metadata": {},
     "output_type": "execute_result"
    }
   ],
   "source": [
    "#24. Suppose you have DataFrame with 10 columns of real numbers, for example:Which column of numbers has the smallest sum? (Find that column's label.)\n",
    "import pandas as pd\n",
    "import numpy as np\n",
    "df = pd.DataFrame(np.random.random(size=(5, 10)), columns=list('abcdefghij'))\n",
    "print(df)\n",
    "df.sum().idxmin()\n"
   ]
  },
  {
   "cell_type": "code",
   "execution_count": null,
   "id": "second-aquatic",
   "metadata": {},
   "outputs": [],
   "source": []
  }
 ],
 "metadata": {
  "kernelspec": {
   "display_name": "Python 3",
   "language": "python",
   "name": "python3"
  },
  "language_info": {
   "codemirror_mode": {
    "name": "ipython",
    "version": 3
   },
   "file_extension": ".py",
   "mimetype": "text/x-python",
   "name": "python",
   "nbconvert_exporter": "python",
   "pygments_lexer": "ipython3",
   "version": "3.8.5"
  }
 },
 "nbformat": 4,
 "nbformat_minor": 5
}
